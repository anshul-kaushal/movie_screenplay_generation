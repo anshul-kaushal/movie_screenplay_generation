{
 "cells": [
  {
   "cell_type": "markdown",
   "id": "92d885cf-7918-4b80-9053-cfb1fd524676",
   "metadata": {},
   "source": [
    "## Installations"
   ]
  },
  {
   "cell_type": "code",
   "execution_count": 1,
   "id": "311cacb5-6047-4f23-a671-1f63612ab512",
   "metadata": {},
   "outputs": [
    {
     "name": "stdout",
     "output_type": "stream",
     "text": [
      "Requirement already satisfied: transformers in /opt/miniconda3/lib/python3.9/site-packages (4.17.0)\n",
      "Requirement already satisfied: numpy>=1.17 in /opt/miniconda3/lib/python3.9/site-packages (from transformers) (1.21.2)\n",
      "Requirement already satisfied: requests in /opt/miniconda3/lib/python3.9/site-packages (from transformers) (2.25.1)\n",
      "Requirement already satisfied: huggingface-hub<1.0,>=0.1.0 in /opt/miniconda3/lib/python3.9/site-packages (from transformers) (0.5.1)\n",
      "Requirement already satisfied: pyyaml>=5.1 in /opt/miniconda3/lib/python3.9/site-packages (from transformers) (5.4.1)\n",
      "Requirement already satisfied: sacremoses in /opt/miniconda3/lib/python3.9/site-packages (from transformers) (0.0.47)\n",
      "Requirement already satisfied: tokenizers!=0.11.3,>=0.11.1 in /opt/miniconda3/lib/python3.9/site-packages (from transformers) (0.11.5)\n",
      "Requirement already satisfied: filelock in /opt/miniconda3/lib/python3.9/site-packages (from transformers) (3.6.0)\n",
      "Requirement already satisfied: packaging>=20.0 in /opt/miniconda3/lib/python3.9/site-packages (from transformers) (21.0)\n",
      "Requirement already satisfied: tqdm>=4.27 in /opt/miniconda3/lib/python3.9/site-packages (from transformers) (4.62.3)\n",
      "Requirement already satisfied: regex!=2019.12.17 in /opt/miniconda3/lib/python3.9/site-packages (from transformers) (2021.9.30)\n",
      "Requirement already satisfied: typing-extensions>=3.7.4.3 in /opt/miniconda3/lib/python3.9/site-packages (from huggingface-hub<1.0,>=0.1.0->transformers) (3.10.0.0)\n",
      "Requirement already satisfied: pyparsing>=2.0.2 in /opt/miniconda3/lib/python3.9/site-packages (from packaging>=20.0->transformers) (2.4.7)\n",
      "Requirement already satisfied: chardet<5,>=3.0.2 in /opt/miniconda3/lib/python3.9/site-packages (from requests->transformers) (4.0.0)\n",
      "Requirement already satisfied: urllib3<1.27,>=1.21.1 in /opt/miniconda3/lib/python3.9/site-packages (from requests->transformers) (1.26.6)\n",
      "Requirement already satisfied: idna<3,>=2.5 in /opt/miniconda3/lib/python3.9/site-packages (from requests->transformers) (2.10)\n",
      "Requirement already satisfied: certifi>=2017.4.17 in /opt/miniconda3/lib/python3.9/site-packages (from requests->transformers) (2021.5.30)\n",
      "Requirement already satisfied: click in /opt/miniconda3/lib/python3.9/site-packages (from sacremoses->transformers) (8.0.1)\n",
      "Requirement already satisfied: six in /opt/miniconda3/lib/python3.9/site-packages (from sacremoses->transformers) (1.16.0)\n",
      "Requirement already satisfied: joblib in /Users/anshulkaushal/.local/lib/python3.9/site-packages (from sacremoses->transformers) (1.1.0)\n"
     ]
    }
   ],
   "source": [
    "!pip install transformers"
   ]
  },
  {
   "cell_type": "markdown",
   "id": "16cc1476-aa1b-49ce-b38c-28f5b9307c9c",
   "metadata": {},
   "source": [
    "## Imports"
   ]
  },
  {
   "cell_type": "code",
   "execution_count": 2,
   "id": "d2e1d0a0-5324-47a3-a469-80a2d5a3a0b5",
   "metadata": {},
   "outputs": [],
   "source": [
    "from transformers import (GPT2Config, GPT2LMHeadModel, GPT2Tokenizer)"
   ]
  },
  {
   "cell_type": "markdown",
   "id": "02bb6059-9ef3-4799-a89b-6f2e33423ce4",
   "metadata": {},
   "source": [
    "## Loading the model fine-tuned on horror scripts"
   ]
  },
  {
   "cell_type": "markdown",
   "id": "20581807-523b-45e7-83cf-e54672dc55f9",
   "metadata": {
    "tags": []
   },
   "source": [
    "### Download the folder for the trained model from [here](https://drive.google.com/drive/folders/1jq21-dni3H_79-g64uEFh_E6DbcU3dds?usp=share_link) and save it into the same directory as the notebook."
   ]
  },
  {
   "cell_type": "code",
   "execution_count": 3,
   "id": "d5695bbe-7354-4a17-acde-0c3cdf6efdd2",
   "metadata": {},
   "outputs": [],
   "source": [
    "output_dir = 'horror_movies/'\n",
    "model = GPT2LMHeadModel.from_pretrained(output_dir)\n",
    "tokenizer = GPT2Tokenizer.from_pretrained(output_dir)"
   ]
  },
  {
   "cell_type": "code",
   "execution_count": 4,
   "id": "be90c802-5c73-4959-a05a-5f4cd26c393e",
   "metadata": {},
   "outputs": [],
   "source": [
    "def generate_movie(prompt):\n",
    "    '''\n",
    "    str -> str\n",
    "    Returns the generated script\n",
    "    \n",
    "    Params:\n",
    "        prompt (str) the prompt to generate the script\n",
    "    \n",
    "    Returns:\n",
    "        (str) the script\n",
    "    '''\n",
    "    input_ids = tokenizer.encode(prompt, return_tensors='pt')\n",
    "\n",
    "    generated_text_samples = model.generate(\n",
    "        input_ids, max_new_tokens=1000, do_sample=True, \n",
    "        top_p=0.85, top_k=0\n",
    "        )\n",
    "    \n",
    "    return tokenizer.decode(generated_text_samples[0], skip_special_tokens=True)"
   ]
  },
  {
   "cell_type": "code",
   "execution_count": 5,
   "id": "4ffe39b8-0941-47ca-b26c-6ca2dcb2bfe6",
   "metadata": {},
   "outputs": [],
   "source": [
    "script = generate_movie('THE LITTLE GIRL STARTS TO LAUGH')"
   ]
  },
  {
   "cell_type": "code",
   "execution_count": 6,
   "id": "5b7c984c-8ded-426f-bd9c-548fe490a9c0",
   "metadata": {},
   "outputs": [
    {
     "name": "stdout",
     "output_type": "stream",
     "text": [
      "THE LITTLE GIRL STARTS TO LAUGH.\n",
      "\n",
      "                                    LITTLE GIRL\n",
      "                          No way...\n",
      "\n",
      "                                  MOTHER\n",
      "                         So he never spoke to me...\n",
      "\n",
      "                                 LITTLE GIRL\n",
      "                        ...and that's why...\n",
      "\n",
      "                                 MOTHER\n",
      "                         (to LITTLE GIRL, who laughs)\n",
      "                       You know, I've been crazy.\n",
      "\n",
      "                                  LITTLE GIRL\n",
      "                       I've been there...\n",
      "\n",
      "                                  MOTHER\n",
      "                         I...I used to...\n",
      "\n",
      "                                  LITTLE GIRL\n",
      "                         I was... I used to...\n",
      "\n",
      "                                  MOTHER\n",
      "                          What was wrong?\n",
      "\n",
      "                                 LITTLE GIRL\n",
      "                        My scars... the scars of my hands...\n",
      "\n",
      "                               MOTHER\n",
      "                       What are you talking about?\n",
      "\n",
      "                               LITTLE GIRL\n",
      "                       The scar.\n",
      "\n",
      "                                MOTHER\n",
      "                      ...you didn't...\n",
      "\n",
      "                               LITTLE GIRL\n",
      "                      I did not...\n",
      "\n",
      "                              MOTHER\n",
      "  \n"
     ]
    }
   ],
   "source": [
    "print(script)"
   ]
  }
 ],
 "metadata": {
  "kernelspec": {
   "display_name": "Python 3",
   "language": "python",
   "name": "python3"
  },
  "language_info": {
   "codemirror_mode": {
    "name": "ipython",
    "version": 3
   },
   "file_extension": ".py",
   "mimetype": "text/x-python",
   "name": "python",
   "nbconvert_exporter": "python",
   "pygments_lexer": "ipython3",
   "version": "3.9.5"
  }
 },
 "nbformat": 4,
 "nbformat_minor": 5
}
